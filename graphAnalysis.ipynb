{
 "cells": [
  {
   "cell_type": "code",
   "execution_count": 157,
   "metadata": {},
   "outputs": [],
   "source": [
    "from networkx.generators.random_graphs import erdos_renyi_graph\n",
    "import numpy as np\n",
    "from scipy.optimize import fsolve\n",
    "from random import sample\n",
    "import math"
   ]
  },
  {
   "cell_type": "code",
   "execution_count": null,
   "metadata": {},
   "outputs": [],
   "source": []
  },
  {
   "cell_type": "code",
   "execution_count": 110,
   "metadata": {},
   "outputs": [],
   "source": [
    "from collections import defaultdict\n",
    "\n",
    "class Graph:\n",
    "    \n",
    "    def __init__(self,n):\n",
    "        self.vert=n\n",
    "        self.g=defaultdict(list)\n",
    "        self.component=[]\n",
    "        \n",
    "    def addEdge(self,x,y):\n",
    "        self.g[x].append(y);\n",
    "        self.g[y].append(x);\n",
    "        \n",
    "    def maindfs(self, v, visited,c):\n",
    "        visited.add(v)\n",
    "        \n",
    "        for neighbor in self.g[v]:\n",
    "            if neighbor not in visited:\n",
    "                \n",
    "                #print(\"here\")\n",
    "                c=self.maindfs(neighbor,visited,c)+1\n",
    "        return c\n",
    "                \n",
    "        \n",
    "    def dfs(self):\n",
    "        \n",
    "        visited=set()\n",
    "        for v in range(self.vert):\n",
    "            if v not in visited:\n",
    "                c=1\n",
    "                c=self.maindfs(v,visited,c)\n",
    "                #print(c)\n",
    "                self.component.append(c)\n",
    "                \n",
    "                "
   ]
  },
  {
   "cell_type": "code",
   "execution_count": 203,
   "metadata": {},
   "outputs": [],
   "source": [
    "from collections import defaultdict\n",
    "class Node:\n",
    "    def __init__(self,dis,num):\n",
    "        self.dis=dis\n",
    "        self.num=num\n",
    "        \n",
    "    \n",
    "class Graph2:\n",
    "    \n",
    "    def __init__(self,n):\n",
    "        self.vert=n\n",
    "        self.g=defaultdict(list)\n",
    "        self.component=[]\n",
    "        \n",
    "    def addEdge(self,x,y):\n",
    "        self.g[x].append(y);\n",
    "        self.g[y].append(x);\n",
    "        \n",
    "    \n",
    "                \n",
    "        \n",
    "    def bfs(self,s):\n",
    "        \n",
    "        visited=set()\n",
    "        s.dis=0\n",
    "        queue = [] \n",
    "        queue.append(s) \n",
    "        visited.add(s)\n",
    "        while queue: \n",
    "            s = queue.pop(0) \n",
    "            \n",
    "            #print (s.num,\" \",s.dis, \" \",end = \" \") \n",
    "            for i in self.g[s]: \n",
    "                if i not in visited: \n",
    "                    queue.append(i) \n",
    "                    i.dis=s.dis+1\n",
    "                    visited.add(i)\n",
    "        #print (s.num,\" \",s.dis, \" \",end = \" \") \n",
    "        return (s.dis/2)\n"
   ]
  },
  {
   "cell_type": "code",
   "execution_count": 143,
   "metadata": {},
   "outputs": [
    {
     "data": {
      "text/plain": [
       "array([0.58281164])"
      ]
     },
     "execution_count": 143,
     "metadata": {},
     "output_type": "execute_result"
    }
   ],
   "source": [
    "\n",
    "def g(S,*z1):\n",
    "    z=z1\n",
    "    #print(z)\n",
    "    return 1-np.exp(-S*z)-S\n",
    "\n"
   ]
  },
  {
   "cell_type": "code",
   "execution_count": 156,
   "metadata": {},
   "outputs": [
    {
     "data": {
      "text/plain": [
       "<matplotlib.legend.Legend at 0x7f70f050b670>"
      ]
     },
     "execution_count": 156,
     "metadata": {},
     "output_type": "execute_result"
    },
    {
     "data": {
      "image/png": "[encoded data removed]",
      "text/plain": [
       "<Figure size 432x288 with 1 Axes>"
      ]
     },
     "metadata": {
      "needs_background": "light"
     },
     "output_type": "display_data"
    },
    {
     "data": {
      "image/png": "[encoded data removed]",
      "text/plain": [
       "<Figure size 432x288 with 1 Axes>"
      ]
     },
     "metadata": {
      "needs_background": "light"
     },
     "output_type": "display_data"
    }
   ],
   "source": [
    "import networkx as nx\n",
    "import matplotlib.pyplot as plt \n",
    "import numpy as np\n",
    "import statistics\n",
    "S=[]\n",
    "s=[]\n",
    "S_theor=[]\n",
    "s_theor=[]\n",
    "for z in np.linspace(0.0, 4.0, num=50):\n",
    "    n = 1000\n",
    "    p = z/(n-1)\n",
    "    Scomp=[]\n",
    "    scomp=[]\n",
    "    S_root=fsolve(g,1.0,args=z)\n",
    "    S_theor.append(S_root)\n",
    "    s_theor.append(1/(1+(z*S_root)-z))\n",
    "    for _ in range(100):\n",
    "        \n",
    "        g1 = erdos_renyi_graph(n, p)\n",
    "        G=Graph(n)\n",
    "        for u,v in g1.edges:\n",
    "            G.addEdge(u,v)\n",
    "            G.addEdge(v,u)\n",
    "        G.dfs()\n",
    "        mx=max(G.component)\n",
    "        #print(\"he\")\n",
    "        if z<1:\n",
    "            scomp.append(statistics.mean(G.component))\n",
    "        else:\n",
    "            scomp.append((sum(G.component)-mx)/(len(G.component)-1))\n",
    "        Scomp.append(mx)\n",
    "    #print(comp)\n",
    "    S.append(statistics.mean(Scomp)/n)\n",
    "    s.append(statistics.mean(scomp))\n",
    "        #print(g1.edges())\n",
    "        #nx.draw(g1)\n",
    "#print(s)   \n",
    "#print(s_theor)\n",
    "plt.figure()\n",
    "plt.title(\"S graph\")\n",
    "plt.plot(np.linspace(0.0, 4.0, num=50),S,'r',label=\"experimental\")\n",
    "plt.plot(np.linspace(0.0, 4.0, num=50),S_theor,'b',label=\"theoretical\")\n",
    "plt.legend(loc=\"upper left\")\n",
    "plt.figure()\n",
    "plt.title(\"s graph\")\n",
    "plt.plot(np.linspace(0.0, 4.0, num=50),s,'r',label=\"experimental\")\n",
    "plt.plot(np.linspace(0.0, 4.0, num=50),s_theor,'b',label=\"theoretical\")\n",
    "plt.legend(loc=\"upper left\")"
   ]
  },
  {
   "cell_type": "code",
   "execution_count": 256,
   "metadata": {},
   "outputs": [
    {
     "name": "stdout",
     "output_type": "stream",
     "text": [
      "[4.984423459244535, 5.505798192771084, 6.095917602996256, 6.495513364976272]\n",
      "[5.0, 5.5, 6.0, 6.5]\n"
     ]
    },
    {
     "data": {
      "text/plain": [
       "<matplotlib.legend.Legend at 0x7f70ea912f10>"
      ]
     },
     "execution_count": 256,
     "metadata": {},
     "output_type": "execute_result"
    },
    {
     "data": {
      "image/png": "[encoded data removed]",
      "text/plain": [
       "<Figure size 432x288 with 1 Axes>"
      ]
     },
     "metadata": {
      "needs_background": "light"
     },
     "output_type": "display_data"
    }
   ],
   "source": [
    "z=4\n",
    "d=[]\n",
    "d_theor=[]\n",
    "for q in [10,11,12,13]:\n",
    "    n=math.pow(2,q)\n",
    "    p=z/(n-1)\n",
    "    n=int(n)\n",
    "    d_theor.append(np.log10(n)/np.log10(z))\n",
    "    g = erdos_renyi_graph(n, p)\n",
    "    dis=0\n",
    "    randomSeed=sample(range(n),100)\n",
    "    #nx.draw(g,with_labels = True)\n",
    "    for r in randomSeed:\n",
    "        G=Graph2(n)\n",
    "        node=[]\n",
    "        for x in range(n):\n",
    "            node.append(Node(math.inf,x))\n",
    "        for u,v in g.edges:\n",
    "            G.addEdge(node[u],node[v])\n",
    "            G.addEdge(node[v],node[u])\n",
    "        #print(list(G.g))\n",
    "        G.bfs(node[r])\n",
    "        \n",
    "        dis_list=[]\n",
    "        for nod in node:\n",
    "            if nod.dis!=math.inf and nod.dis>0:\n",
    "                dis_list.append(nod.dis)\n",
    "        \n",
    "        if not dis_list:\n",
    "            dis_list=[0]\n",
    "        dis=dis+statistics.mean(dis_list)\n",
    "    d.append(dis/100)\n",
    "print(d)\n",
    "print(d_theor)\n",
    "n_list=[]\n",
    "for p in [10,11,12,13]:\n",
    "    n_list.append(math.pow(2,p))\n",
    "plt.figure()\n",
    "plt.title(\"average shortest length graph\")\n",
    "plt.plot(n_list,d,'r',label=\"experimental\")\n",
    "plt.plot(n_list,d_theor,'b',label=\"theoretical\")\n",
    "plt.legend(loc=\"upper left\")"
   ]
  },
  {
   "cell_type": "code",
   "execution_count": 236,
   "metadata": {},
   "outputs": [
    {
     "name": "stdout",
     "output_type": "stream",
     "text": [
      "0   1   1\n",
      "0   2   1\n",
      "0   3   1\n",
      "0   4   2\n",
      "0   5   1\n",
      "1   0   1\n",
      "1   2   0\n",
      "1   3   0\n",
      "1   4   1\n",
      "1   5   0\n",
      "2   0   1\n",
      "2   1   0\n",
      "2   3   0\n",
      "2   4   1\n",
      "2   5   0\n",
      "3   0   1\n",
      "3   1   0\n",
      "3   2   0\n",
      "3   4   1\n",
      "3   5   0\n",
      "4   0   2\n",
      "4   1   1\n",
      "4   2   1\n",
      "4   3   1\n",
      "4   5   1\n",
      "5   0   1\n",
      "5   1   0\n",
      "5   2   0\n",
      "5   3   0\n",
      "5   4   1\n",
      "0.6666666666666666\n",
      "1.5333333333333334\n"
     ]
    },
    {
     "data": {
      "image/png": "[encoded data removed]",
      "text/plain": [
       "<Figure size 432x288 with 1 Axes>"
      ]
     },
     "metadata": {},
     "output_type": "display_data"
    }
   ],
   "source": [
    "from collections import defaultdict\n",
    "import random\n",
    "random.seed(4089630)\n",
    "class Node:\n",
    "    def __init__(self,dis,num):\n",
    "        self.dis=dis\n",
    "        self.num=num\n",
    "        \n",
    "    \n",
    "class Graph2:\n",
    "    \n",
    "    def __init__(self,n):\n",
    "        self.vert=n\n",
    "        self.g=defaultdict(list)\n",
    "        self.component=[]\n",
    "        \n",
    "    def addEdge(self,x,y):\n",
    "        self.g[x].append(y);\n",
    "        self.g[y].append(x);\n",
    "        \n",
    "    \n",
    "                \n",
    "        \n",
    "    def bfs(self,s):\n",
    "        \n",
    "        visited=set()\n",
    "        s.dis=0\n",
    "        queue = [] \n",
    "        queue.append(s) \n",
    "        visited.add(s)\n",
    "        while queue: \n",
    "            s = queue.pop(0) \n",
    "            \n",
    "            #print (s.num,\" \",s.dis, \" \",end = \" \") \n",
    "            for i in self.g[s]: \n",
    "                if i not in visited: \n",
    "                    queue.append(i) \n",
    "                    i.dis=s.dis+1\n",
    "                    visited.add(i)\n",
    "        #print (s.num,\" \",s.dis, \" \",end = \" \") \n",
    "        \n",
    "n=6\n",
    "p=0.5\n",
    "g=erdos_renyi_graph(n, p)\n",
    "nx.draw(g, with_labels=True)\n",
    "G=Graph2(n)\n",
    "node=[]\n",
    "for x in range(n):\n",
    "    node.append(Node(math.inf,x))\n",
    "for u,v in g.edges:\n",
    "    G.addEdge(node[u],node[v])\n",
    "    G.addEdge(node[v],node[u])\n",
    "G.bfs(node[4])\n",
    "\n",
    "dis=0\n",
    "for x in range(n):\n",
    "    for y in range(n):\n",
    "        if x!=y:\n",
    "            print(x,\" \",y,\" \",abs(node[x].dis-node[y].dis))\n",
    "            dis=dis+abs(node[x].dis-node[y].dis)\n",
    "            \n",
    "print(dis/(n*(n-1)))\n",
    "print(nx.average_shortest_path_length(g))"
   ]
  },
  {
   "cell_type": "code",
   "execution_count": null,
   "metadata": {},
   "outputs": [],
   "source": []
  }
 ],
 "metadata": {
  "kernelspec": {
   "display_name": "Python 3",
   "language": "python",
   "name": "python3"
  },
  "language_info": {
   "codemirror_mode": {
    "name": "ipython",
    "version": 3
   },
   "file_extension": ".py",
   "mimetype": "text/x-python",
   "name": "python",
   "nbconvert_exporter": "python",
   "pygments_lexer": "ipython3",
   "version": "3.8.3"
  }
 },
 "nbformat": 4,
 "nbformat_minor": 4
}
